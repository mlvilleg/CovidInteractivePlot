{
 "cells": [
  {
   "cell_type": "code",
   "execution_count": 283,
   "metadata": {},
   "outputs": [],
   "source": [
    "import csv\n",
    "import os\n",
    "import pandas as pd\n",
    "from datetime import datetime\n",
    "import matplotlib as mpl\n",
    "import matplotlib.pyplot as plt\n",
    "plt.style.use('ggplot')\n",
    "import numpy as np\n",
    "import re\n"
   ]
  },
  {
   "cell_type": "markdown",
   "metadata": {},
   "source": [
    "# Compiling all files into one\n"
   ]
  },
  {
   "cell_type": "code",
   "execution_count": 284,
   "metadata": {},
   "outputs": [],
   "source": [
    "df_list = []\n",
    "for file in os.listdir(\"files\"):\n",
    "    df = pd.read_csv(f\"files/{file}\",skiprows=[0,1,2,3],sep = \";\") #Skip the first 3 rows as it is not needed\n",
    "    df_list.append(df)\n",
    "\n",
    "\n"
   ]
  },
  {
   "cell_type": "code",
   "execution_count": 285,
   "metadata": {},
   "outputs": [],
   "source": [
    "#This is where I make the combined .csv files into one main file\n",
    "df_list = []\n",
    "for file in os.listdir(\"files\"):\n",
    "    df = pd.read_csv(f\"files/{file}\",skiprows=[0,1,2,3],sep = \";\") #Skip the first 3 rows as it is not needed\n",
    "    df_list.append(df)\n",
    "\n",
    "for i in range(len(df_list)):\n",
    "    df = df.append(df_list[i])\n",
    "\n",
    "\n",
    "df.to_csv('final.csv')\n",
    "\n"
   ]
  },
  {
   "cell_type": "markdown",
   "metadata": {},
   "source": [
    "# Cleaning The Data"
   ]
  },
  {
   "cell_type": "code",
   "execution_count": 286,
   "metadata": {},
   "outputs": [],
   "source": [
    "df_cleaned = df.copy()\n",
    "#Make df_copy with changed column names\n",
    "df_cleaned.rename(columns = {\"Bedrijf\": \"Country Id\", \n",
    "                     \"Dossiernummer\": \"Order ID\",\n",
    "                     \"Vertrekdatum\": \"Departure Date\", \n",
    "                     \"Bedrag\": \"Amount\", \n",
    "                     \"Boekingstype\": \"Category\",\n",
    "                     \"Ticket uitgifte datum\": \"Ticket Issuance Date\", \n",
    "                     \"Luchtvaartmaatschappij\": \"Airline Code\",\n",
    "                     \"Boekingskanaal\": \"Booking Channel\",\n",
    "                     \"Sub-kanaal\": \"Booking Sub-Channel\", \n",
    "                     \"Einddatum segment\": \"Date of Last Segment\", \n",
    "                     \"Nieuw/Wijziging/Annulering\": \"New/Changed/Cancelled\", \n",
    "                     \"Eindbestemming vlucht\": \"Destination\"},inplace = True)"
   ]
  },
  {
   "cell_type": "code",
   "execution_count": 287,
   "metadata": {},
   "outputs": [
    {
     "name": "stderr",
     "output_type": "stream",
     "text": [
      "/var/folders/5z/hd4vckwj3db3x0dppmgvprjm0000gn/T/ipykernel_81737/3771504840.py:2: FutureWarning: The default value of regex will change from True to False in a future version. In addition, single character regular expressions will *not* be treated as literal strings when regex=True.\n",
      "  df_cleaned[\"Amount\"] = df_cleaned[\"Amount\"].str.replace('.', '').str.replace(',', '.').astype(float)\n"
     ]
    }
   ],
   "source": [
    "#Replace European Format to decimal format\n",
    "df_cleaned[\"Amount\"] = df_cleaned[\"Amount\"].str.replace('.', '').str.replace(',', '.').astype(float)"
   ]
  },
  {
   "cell_type": "code",
   "execution_count": 288,
   "metadata": {},
   "outputs": [],
   "source": [
    "#Make sure to drop any duplicates\n",
    "df_cleaned.drop_duplicates(inplace = True)"
   ]
  },
  {
   "cell_type": "code",
   "execution_count": 289,
   "metadata": {},
   "outputs": [],
   "source": [
    "#Convert Departure Date, issuance date to datetime\n",
    "df_cleaned[\"Departure Date\"] = pd.to_datetime(df_cleaned[\"Departure Date\"], format=\"%d-%m-%Y\")\n",
    "df_cleaned[\"Ticket Issuance Date\"] = pd.to_datetime(df_cleaned[\"Ticket Issuance Date\"], format=\"%d-%m-%Y\")"
   ]
  },
  {
   "cell_type": "code",
   "execution_count": 290,
   "metadata": {},
   "outputs": [],
   "source": [
    "#Create where changed or cancelled\n",
    "#Where W = changed and A = Cancelled\n",
    "df_cleaned = df_cleaned[(df_cleaned[\"New/Changed/Cancelled\"] == \"A\") |  (df_cleaned[\"New/Changed/Cancelled\"] == \"W\")]"
   ]
  },
  {
   "cell_type": "code",
   "execution_count": 291,
   "metadata": {},
   "outputs": [],
   "source": [
    "#Drop na\n",
    "df_cleaned = df_cleaned.dropna(subset=['Airline Code', 'Ticket Issuance Date'])"
   ]
  },
  {
   "cell_type": "code",
   "execution_count": 299,
   "metadata": {},
   "outputs": [
    {
     "data": {
      "text/plain": [
       "Departure Date\n",
       "2013-12-14    28\n",
       "2013-12-15    13\n",
       "2013-12-16    19\n",
       "2013-12-17    37\n",
       "2013-12-18    35\n",
       "2013-12-19    38\n",
       "2013-12-20    60\n",
       "2013-12-21    44\n",
       "2013-12-22    42\n",
       "2013-12-23    43\n",
       "2013-12-24    30\n",
       "2013-12-25    54\n",
       "2013-12-26    48\n",
       "2013-12-27    50\n",
       "2013-12-28    47\n",
       "2013-12-29    41\n",
       "2013-12-30    42\n",
       "2013-12-31    28\n",
       "2014-01-01    39\n",
       "2014-01-02    30\n",
       "2014-01-03    34\n",
       "2014-01-04    18\n",
       "2014-01-05    31\n",
       "2014-01-06    20\n",
       "2014-01-07    24\n",
       "2014-01-08    22\n",
       "2014-01-09    25\n",
       "2014-01-10    24\n",
       "2014-01-11    21\n",
       "2014-01-12    33\n",
       "2014-01-13    16\n",
       "dtype: int64"
      ]
     },
     "execution_count": 299,
     "metadata": {},
     "output_type": "execute_result"
    }
   ],
   "source": [
    "#Filter the dates\n",
    "start_date = \"14-12-2013\"\n",
    "end_date = \"13-01-2014\"\n",
    "\n",
    "filtered_df_departure = df_cleaned[(df_cleaned['Departure Date'] >= start_date) & (df_cleaned['Departure Date'] <= end_date)]\n",
    "\n",
    "\n",
    "filtered_df_issuance = df_cleaned[(df_cleaned['Ticket Issuance Date'] >= start_date) & (df_cleaned['Ticket Issuance Date'] <= end_date)]\n",
    "\n",
    "\n",
    "\n"
   ]
  },
  {
   "cell_type": "code",
   "execution_count": 274,
   "metadata": {},
   "outputs": [
    {
     "data": {
      "text/plain": [
       "Destination\n",
       "BKK    47\n",
       "AGP    32\n",
       "AMS    31\n",
       "BCN    30\n",
       "LIS    23\n",
       "       ..\n",
       "DTW     1\n",
       "CGP     1\n",
       "CHC     1\n",
       "MBJ     1\n",
       "ELQ     1\n",
       "Length: 233, dtype: int64"
      ]
     },
     "execution_count": 274,
     "metadata": {},
     "output_type": "execute_result"
    }
   ],
   "source": [
    "#Filter by most changed/cancelled destination\n",
    "filtered_dates.groupby([\"Destination\"]).size().sort_values(ascending = False)"
   ]
  },
  {
   "cell_type": "code",
   "execution_count": 275,
   "metadata": {},
   "outputs": [
    {
     "data": {
      "text/plain": [
       "Ticket Issuance Date\n",
       "2014-01-13     4\n",
       "2014-01-11     7\n",
       "2013-12-22     9\n",
       "2014-01-12    12\n",
       "2013-12-25    12\n",
       "2014-01-10    13\n",
       "2013-12-21    15\n",
       "2013-12-28    16\n",
       "2013-12-26    16\n",
       "2013-12-19    17\n",
       "2013-12-14    24\n",
       "2013-12-29    24\n",
       "2013-12-30    25\n",
       "2013-12-24    26\n",
       "2013-12-20    28\n",
       "2013-12-27    28\n",
       "2013-12-23    31\n",
       "2013-12-31    33\n",
       "2014-01-04    35\n",
       "2014-01-08    38\n",
       "2013-12-15    38\n",
       "2014-01-01    39\n",
       "2014-01-07    41\n",
       "2014-01-09    41\n",
       "2014-01-02    42\n",
       "2014-01-05    42\n",
       "2013-12-16    44\n",
       "2014-01-03    46\n",
       "2014-01-06    58\n",
       "2013-12-17    59\n",
       "2013-12-18    64\n",
       "dtype: int64"
      ]
     },
     "execution_count": 275,
     "metadata": {},
     "output_type": "execute_result"
    }
   ],
   "source": [
    "#Filter by issuance dates\n",
    "\n",
    "filtered_df_issuance.groupby([\"Ticket Issuance Date\"]).size().sort_values(ascending = True)"
   ]
  },
  {
   "cell_type": "code",
   "execution_count": 276,
   "metadata": {},
   "outputs": [
    {
     "data": {
      "text/plain": [
       "Departure Date\n",
       "2013-12-20    60\n",
       "2013-12-25    54\n",
       "2013-12-27    50\n",
       "2013-12-26    48\n",
       "2013-12-28    47\n",
       "2013-12-21    44\n",
       "2013-12-23    43\n",
       "2013-12-30    42\n",
       "2013-12-22    42\n",
       "2013-12-29    41\n",
       "2014-01-01    39\n",
       "2013-12-19    38\n",
       "2013-12-17    37\n",
       "2013-12-18    35\n",
       "2014-01-03    34\n",
       "2014-01-12    33\n",
       "2014-01-05    31\n",
       "2013-12-24    30\n",
       "2014-01-02    30\n",
       "2013-12-14    28\n",
       "2013-12-31    28\n",
       "2014-01-09    25\n",
       "2014-01-07    24\n",
       "2014-01-10    24\n",
       "2014-01-08    22\n",
       "2014-01-11    21\n",
       "2014-01-06    20\n",
       "2013-12-16    19\n",
       "2014-01-04    18\n",
       "2014-01-13    16\n",
       "2013-12-15    13\n",
       "dtype: int64"
      ]
     },
     "execution_count": 276,
     "metadata": {},
     "output_type": "execute_result"
    }
   ],
   "source": [
    "#Filter by departure date\n",
    "filtered_df_departure.groupby([\"Departure Date\"]).size().sort_values(ascending = False)"
   ]
  },
  {
   "cell_type": "code",
   "execution_count": 277,
   "metadata": {},
   "outputs": [
    {
     "data": {
      "text/plain": [
       "Amount\n",
       " 0.00       706\n",
       " 4696.00      4\n",
       " 21.00        3\n",
       " 200.00       3\n",
       " 38.00        2\n",
       "           ... \n",
       "-187.00       1\n",
       "-175.54       1\n",
       "-174.24       1\n",
       "-162.40       1\n",
       " 8489.00      1\n",
       "Length: 200, dtype: int64"
      ]
     },
     "execution_count": 277,
     "metadata": {},
     "output_type": "execute_result"
    }
   ],
   "source": [
    "#Filter by price\n",
    "filtered_dates.groupby([\"Amount\"]).size().sort_values(ascending = False)"
   ]
  },
  {
   "cell_type": "markdown",
   "metadata": {},
   "source": [
    "# Data Analysis/Visualization"
   ]
  },
  {
   "cell_type": "markdown",
   "metadata": {},
   "source": [
    "## Plotting amount of cancelled and changed by issuance date and departure date"
   ]
  },
  {
   "cell_type": "code",
   "execution_count": 300,
   "metadata": {},
   "outputs": [],
   "source": [
    "filtered_df_issuance = filtered_df_issuance.groupby([\"Ticket Issuance Date\"]).size()\n",
    "filtered_df_departure = filtered_df_departure.groupby([\"Departure Date\"]).size()\n"
   ]
  },
  {
   "cell_type": "code",
   "execution_count": 305,
   "metadata": {},
   "outputs": [
    {
     "data": {
      "image/png": "[encoded data removed]",
      "text/plain": [
       "<Figure size 432x288 with 1 Axes>"
      ]
     },
     "metadata": {},
     "output_type": "display_data"
    }
   ],
   "source": [
    "plt.style.use('seaborn-whitegrid')\n",
    "\n",
    "\n",
    "plt.title(\"Cancelled/Changed By Issuance/Departure Date\",fontsize=16)\n",
    "plt.xlabel(\"Date\",fontsize=13)\n",
    "plt.xticks(rotation=70)\n",
    "plt.ylabel(\"Cancelled/Changed\",fontsize=13)\n",
    "\n",
    "\n",
    "plt.plot(filtered_df_issuance,label = 'Issuance Date')\n",
    "plt.plot(filtered_df_departure,label = 'Departure Date')\n",
    "plt.legend(fontsize=8)\n",
    "plt.show()\n"
   ]
  },
  {
   "cell_type": "markdown",
   "metadata": {},
   "source": [
    "## Plotting cancelled and changed by airlines"
   ]
  },
  {
   "cell_type": "code",
   "execution_count": 281,
   "metadata": {},
   "outputs": [
    {
     "data": {
      "text/html": [
       "<div>\n",
       "<style scoped>\n",
       "    .dataframe tbody tr th:only-of-type {\n",
       "        vertical-align: middle;\n",
       "    }\n",
       "\n",
       "    .dataframe tbody tr th {\n",
       "        vertical-align: top;\n",
       "    }\n",
       "\n",
       "    .dataframe thead th {\n",
       "        text-align: right;\n",
       "    }\n",
       "</style>\n",
       "<table border=\"1\" class=\"dataframe\">\n",
       "  <thead>\n",
       "    <tr style=\"text-align: right;\">\n",
       "      <th></th>\n",
       "      <th>Airline Code</th>\n",
       "    </tr>\n",
       "  </thead>\n",
       "  <tbody>\n",
       "    <tr>\n",
       "      <th>279</th>\n",
       "      <td>UA</td>\n",
       "    </tr>\n",
       "    <tr>\n",
       "      <th>280</th>\n",
       "      <td>UA</td>\n",
       "    </tr>\n",
       "    <tr>\n",
       "      <th>596</th>\n",
       "      <td>OS</td>\n",
       "    </tr>\n",
       "    <tr>\n",
       "      <th>597</th>\n",
       "      <td>OS</td>\n",
       "    </tr>\n",
       "    <tr>\n",
       "      <th>760</th>\n",
       "      <td>SU</td>\n",
       "    </tr>\n",
       "    <tr>\n",
       "      <th>...</th>\n",
       "      <td>...</td>\n",
       "    </tr>\n",
       "    <tr>\n",
       "      <th>1581</th>\n",
       "      <td>W6</td>\n",
       "    </tr>\n",
       "    <tr>\n",
       "      <th>1917</th>\n",
       "      <td>XQ</td>\n",
       "    </tr>\n",
       "    <tr>\n",
       "      <th>2126</th>\n",
       "      <td>OS</td>\n",
       "    </tr>\n",
       "    <tr>\n",
       "      <th>2261</th>\n",
       "      <td>RJ</td>\n",
       "    </tr>\n",
       "    <tr>\n",
       "      <th>2380</th>\n",
       "      <td>UN</td>\n",
       "    </tr>\n",
       "  </tbody>\n",
       "</table>\n",
       "<p>927 rows × 1 columns</p>\n",
       "</div>"
      ],
      "text/plain": [
       "     Airline Code\n",
       "279            UA\n",
       "280            UA\n",
       "596            OS\n",
       "597            OS\n",
       "760            SU\n",
       "...           ...\n",
       "1581           W6\n",
       "1917           XQ\n",
       "2126           OS\n",
       "2261           RJ\n",
       "2380           UN\n",
       "\n",
       "[927 rows x 1 columns]"
      ]
     },
     "execution_count": 281,
     "metadata": {},
     "output_type": "execute_result"
    }
   ],
   "source": [
    "filtered_dates[[\"Airline Code\"]]"
   ]
  },
  {
   "cell_type": "code",
   "execution_count": 282,
   "metadata": {},
   "outputs": [
    {
     "data": {
      "text/plain": [
       "<AxesSubplot:xlabel='Airline Code'>"
      ]
     },
     "execution_count": 282,
     "metadata": {},
     "output_type": "execute_result"
    },
    {
     "data": {
      "image/png": "[encoded data removed]",
      "text/plain": [
       "<Figure size 1440x720 with 1 Axes>"
      ]
     },
     "metadata": {},
     "output_type": "display_data"
    }
   ],
   "source": [
    "plt.rc('font', size=12)\n",
    "fig, ax = plt.subplots(figsize=(20, 10))\n",
    "\n",
    "#Top ten cancelled/changed tickets\n",
    "codes = filtered_dates.groupby([\"Airline Code\"]).size().sort_values(ascending = False).head(10)\n",
    "codes.plot.bar()\n"
   ]
  },
  {
   "cell_type": "code",
   "execution_count": 1329,
   "metadata": {},
   "outputs": [
    {
     "data": {
      "text/plain": [
       "Airline Code\n",
       "HV    98\n",
       "KL    90\n",
       "FR    63\n",
       "LH    49\n",
       "BA    36\n",
       "DL    26\n",
       "EK    24\n",
       "U2    24\n",
       "LX    23\n",
       "TK    23\n",
       "dtype: int64"
      ]
     },
     "execution_count": 1329,
     "metadata": {},
     "output_type": "execute_result"
    }
   ],
   "source": [
    "filtered_dates.groupby([\"Airline Code\"]).size().sort_values(ascending = False).head(10)"
   ]
  },
  {
   "cell_type": "markdown",
   "metadata": {},
   "source": [
    "## Ten most cancelled/changed airlines"
   ]
  },
  {
   "cell_type": "code",
   "execution_count": 103,
   "metadata": {},
   "outputs": [
    {
     "data": {
      "text/plain": [
       "Airline Code\n",
       "HV    98\n",
       "KL    90\n",
       "FR    63\n",
       "LH    49\n",
       "BA    36\n",
       "DL    26\n",
       "U2    24\n",
       "EK    24\n",
       "LX    23\n",
       "TK    23\n",
       "dtype: int64"
      ]
     },
     "execution_count": 103,
     "metadata": {},
     "output_type": "execute_result"
    }
   ],
   "source": [
    "filtered_dates.groupby([\"Airline Code\"]).size().sort_values(ascending = False).head(10)"
   ]
  },
  {
   "cell_type": "markdown",
   "metadata": {},
   "source": [
    "## Ten least cancelled/changed airlines"
   ]
  },
  {
   "cell_type": "code",
   "execution_count": 104,
   "metadata": {},
   "outputs": [
    {
     "data": {
      "text/plain": [
       "Airline Code\n",
       "DY    1\n",
       "DE    1\n",
       "CM    1\n",
       "CA    1\n",
       "BR    1\n",
       "BJ    1\n",
       "AV    1\n",
       "AK    1\n",
       "5H    1\n",
       "XQ    1\n",
       "dtype: int64"
      ]
     },
     "execution_count": 104,
     "metadata": {},
     "output_type": "execute_result"
    }
   ],
   "source": [
    "filtered_dates.groupby([\"Airline Code\"]).size().sort_values(ascending = False).tail(10)"
   ]
  },
  {
   "cell_type": "markdown",
   "metadata": {},
   "source": [
    "## Benefit/Loss from cancelled/changed"
   ]
  },
  {
   "cell_type": "code",
   "execution_count": 105,
   "metadata": {},
   "outputs": [
    {
     "name": "stderr",
     "output_type": "stream",
     "text": [
      "/var/folders/5z/hd4vckwj3db3x0dppmgvprjm0000gn/T/ipykernel_81737/2656225077.py:2: SettingWithCopyWarning: \n",
      "A value is trying to be set on a copy of a slice from a DataFrame.\n",
      "Try using .loc[row_indexer,col_indexer] = value instead\n",
      "\n",
      "See the caveats in the documentation: https://pandas.pydata.org/pandas-docs/stable/user_guide/indexing.html#returning-a-view-versus-a-copy\n",
      "  filtered_dates[\"Amount\"] = filtered_dates[\"Amount\"].astype(\"float\")\n"
     ]
    }
   ],
   "source": [
    "#Change \"Amount\" to floats\n",
    "filtered_dates[\"Amount\"] = filtered_dates[\"Amount\"].astype(\"float\")"
   ]
  },
  {
   "cell_type": "code",
   "execution_count": 106,
   "metadata": {},
   "outputs": [
    {
     "data": {
      "text/plain": [
       "62506.47"
      ]
     },
     "execution_count": 106,
     "metadata": {},
     "output_type": "execute_result"
    }
   ],
   "source": [
    "#Total Benefit\n",
    "total_benefit = filtered_dates[filtered_dates[\"Amount\"] >= 0][\"Amount\"].sum().round(2) \n",
    "total_benefit"
   ]
  },
  {
   "cell_type": "code",
   "execution_count": 107,
   "metadata": {},
   "outputs": [
    {
     "data": {
      "text/plain": [
       "-401788.16"
      ]
     },
     "execution_count": 107,
     "metadata": {},
     "output_type": "execute_result"
    }
   ],
   "source": [
    "#Total Loss\n",
    "total_loss = filtered_dates[filtered_dates[\"Amount\"] < 0][\"Amount\"].sum().round(2) \n",
    "total_loss"
   ]
  },
  {
   "cell_type": "code",
   "execution_count": 108,
   "metadata": {},
   "outputs": [
    {
     "data": {
      "text/plain": [
       "-339281.0"
      ]
     },
     "execution_count": 108,
     "metadata": {},
     "output_type": "execute_result"
    }
   ],
   "source": [
    "#Total Benefit/Loss from cancelled/changed\n",
    "filtered_dates[\"Amount\"].round().sum()"
   ]
  },
  {
   "cell_type": "code",
   "execution_count": 109,
   "metadata": {},
   "outputs": [
    {
     "data": {
      "text/plain": [
       "-366.0"
      ]
     },
     "execution_count": 109,
     "metadata": {},
     "output_type": "execute_result"
    }
   ],
   "source": [
    "#Mean Benefit/Loss from cancelled/changed flights\n",
    "\n",
    "round((filtered_dates[\"Amount\"]).mean(),2)"
   ]
  },
  {
   "cell_type": "markdown",
   "metadata": {},
   "source": [
    "## Top 5 benefits by airlines"
   ]
  },
  {
   "cell_type": "code",
   "execution_count": 110,
   "metadata": {},
   "outputs": [
    {
     "data": {
      "text/html": [
       "<div>\n",
       "<style scoped>\n",
       "    .dataframe tbody tr th:only-of-type {\n",
       "        vertical-align: middle;\n",
       "    }\n",
       "\n",
       "    .dataframe tbody tr th {\n",
       "        vertical-align: top;\n",
       "    }\n",
       "\n",
       "    .dataframe thead th {\n",
       "        text-align: right;\n",
       "    }\n",
       "</style>\n",
       "<table border=\"1\" class=\"dataframe\">\n",
       "  <thead>\n",
       "    <tr style=\"text-align: right;\">\n",
       "      <th></th>\n",
       "      <th>Country Id</th>\n",
       "      <th>Order ID</th>\n",
       "      <th>Departure Date</th>\n",
       "      <th>Amount</th>\n",
       "      <th>Category</th>\n",
       "      <th>Product type</th>\n",
       "      <th>Ticket nummer</th>\n",
       "      <th>Ticket Issuance Date</th>\n",
       "      <th>PNR nummer</th>\n",
       "      <th>Ticket route</th>\n",
       "      <th>Airline Code</th>\n",
       "      <th>Booking Channel</th>\n",
       "      <th>Booking Sub-Channel</th>\n",
       "      <th>Date of Last Segment</th>\n",
       "      <th>New/Changed/Cancelled</th>\n",
       "      <th>Destination</th>\n",
       "    </tr>\n",
       "  </thead>\n",
       "  <tbody>\n",
       "    <tr>\n",
       "      <th>1855</th>\n",
       "      <td>33</td>\n",
       "      <td>1972</td>\n",
       "      <td>2013-12-20</td>\n",
       "      <td>8489.00</td>\n",
       "      <td>FLIGHT</td>\n",
       "      <td>Vliegticket</td>\n",
       "      <td>5,89434E+12</td>\n",
       "      <td>2013-12-14</td>\n",
       "      <td>59NVEHM</td>\n",
       "      <td>MAA/TRZ</td>\n",
       "      <td>9W</td>\n",
       "      <td>NaN</td>\n",
       "      <td>NaN</td>\n",
       "      <td>20-12-2013</td>\n",
       "      <td>A</td>\n",
       "      <td>TRZ</td>\n",
       "    </tr>\n",
       "    <tr>\n",
       "      <th>2866</th>\n",
       "      <td>33</td>\n",
       "      <td>1975</td>\n",
       "      <td>2013-12-17</td>\n",
       "      <td>7673.00</td>\n",
       "      <td>FLIGHT</td>\n",
       "      <td>Vliegticket</td>\n",
       "      <td>9,8434E+11</td>\n",
       "      <td>2013-12-14</td>\n",
       "      <td>6AHKSQM</td>\n",
       "      <td>BOM/JDH</td>\n",
       "      <td>AI</td>\n",
       "      <td>NaN</td>\n",
       "      <td>NaN</td>\n",
       "      <td>17-12-2013</td>\n",
       "      <td>W</td>\n",
       "      <td>JDH</td>\n",
       "    </tr>\n",
       "    <tr>\n",
       "      <th>1934</th>\n",
       "      <td>32</td>\n",
       "      <td>18311</td>\n",
       "      <td>2014-01-03</td>\n",
       "      <td>5866.87</td>\n",
       "      <td>FLIGHT</td>\n",
       "      <td>Vliegticket</td>\n",
       "      <td>1,95464E+12</td>\n",
       "      <td>2013-12-20</td>\n",
       "      <td>Y29RMTM</td>\n",
       "      <td>LED/KRR</td>\n",
       "      <td>FV</td>\n",
       "      <td>NaN</td>\n",
       "      <td>NaN</td>\n",
       "      <td>3-1-2014</td>\n",
       "      <td>W</td>\n",
       "      <td>KRR</td>\n",
       "    </tr>\n",
       "    <tr>\n",
       "      <th>2431</th>\n",
       "      <td>32</td>\n",
       "      <td>18395</td>\n",
       "      <td>2013-12-25</td>\n",
       "      <td>5540.00</td>\n",
       "      <td>FLIGHT</td>\n",
       "      <td>Vliegticket</td>\n",
       "      <td>67353607844</td>\n",
       "      <td>2013-12-24</td>\n",
       "      <td>ZUZL9EM</td>\n",
       "      <td>LED/AMS/CDG/SLC/ONT/SEA/AMS/LE</td>\n",
       "      <td>DL</td>\n",
       "      <td>NaN</td>\n",
       "      <td>NaN</td>\n",
       "      <td>20-1-2014</td>\n",
       "      <td>W</td>\n",
       "      <td>ONT</td>\n",
       "    </tr>\n",
       "    <tr>\n",
       "      <th>3312</th>\n",
       "      <td>33</td>\n",
       "      <td>2023</td>\n",
       "      <td>2013-12-29</td>\n",
       "      <td>4696.00</td>\n",
       "      <td>FLIGHT</td>\n",
       "      <td>Vliegticket</td>\n",
       "      <td>A7T23CLM004</td>\n",
       "      <td>2013-12-17</td>\n",
       "      <td>7T23CLM</td>\n",
       "      <td>COK/TRZ</td>\n",
       "      <td>9W</td>\n",
       "      <td>NaN</td>\n",
       "      <td>NaN</td>\n",
       "      <td>29-12-2013</td>\n",
       "      <td>A</td>\n",
       "      <td>TRZ</td>\n",
       "    </tr>\n",
       "  </tbody>\n",
       "</table>\n",
       "</div>"
      ],
      "text/plain": [
       "      Country Id  Order ID Departure Date   Amount Category Product type  \\\n",
       "1855          33      1972     2013-12-20  8489.00   FLIGHT  Vliegticket   \n",
       "2866          33      1975     2013-12-17  7673.00   FLIGHT  Vliegticket   \n",
       "1934          32     18311     2014-01-03  5866.87   FLIGHT  Vliegticket   \n",
       "2431          32     18395     2013-12-25  5540.00   FLIGHT  Vliegticket   \n",
       "3312          33      2023     2013-12-29  4696.00   FLIGHT  Vliegticket   \n",
       "\n",
       "     Ticket nummer Ticket Issuance Date PNR nummer  \\\n",
       "1855   5,89434E+12           2013-12-14    59NVEHM   \n",
       "2866    9,8434E+11           2013-12-14    6AHKSQM   \n",
       "1934   1,95464E+12           2013-12-20    Y29RMTM   \n",
       "2431   67353607844           2013-12-24    ZUZL9EM   \n",
       "3312   A7T23CLM004           2013-12-17    7T23CLM   \n",
       "\n",
       "                        Ticket route Airline Code Booking Channel  \\\n",
       "1855                         MAA/TRZ           9W             NaN   \n",
       "2866                         BOM/JDH           AI             NaN   \n",
       "1934                         LED/KRR           FV             NaN   \n",
       "2431  LED/AMS/CDG/SLC/ONT/SEA/AMS/LE           DL             NaN   \n",
       "3312                         COK/TRZ           9W             NaN   \n",
       "\n",
       "     Booking Sub-Channel Date of Last Segment New/Changed/Cancelled  \\\n",
       "1855                 NaN           20-12-2013                     A   \n",
       "2866                 NaN           17-12-2013                     W   \n",
       "1934                 NaN             3-1-2014                     W   \n",
       "2431                 NaN            20-1-2014                     W   \n",
       "3312                 NaN           29-12-2013                     A   \n",
       "\n",
       "     Destination  \n",
       "1855         TRZ  \n",
       "2866         JDH  \n",
       "1934         KRR  \n",
       "2431         ONT  \n",
       "3312         TRZ  "
      ]
     },
     "execution_count": 110,
     "metadata": {},
     "output_type": "execute_result"
    }
   ],
   "source": [
    "#Top 5 benefits\n",
    "top_5_benefits = filtered_dates.sort_values(by =\"Amount\",ascending = False).head(5)\n",
    "top_5_benefits"
   ]
  },
  {
   "cell_type": "code",
   "execution_count": 308,
   "metadata": {},
   "outputs": [
    {
     "data": {
      "text/plain": [
       "[]"
      ]
     },
     "execution_count": 308,
     "metadata": {},
     "output_type": "execute_result"
    },
    {
     "data": {
      "image/png": "[encoded data removed]",
      "text/plain": [
       "<Figure size 792x648 with 1 Axes>"
      ]
     },
     "metadata": {},
     "output_type": "display_data"
    }
   ],
   "source": [
    "benefits = top_5_benefits[[\"Airline Code\", \"Amount\"]].groupby([\"Airline Code\"]).sum()\n",
    "benefits.plot.pie(y = \"Amount\",autopct='%1.1f%%',figsize=(11, 9))\n",
    "plt.legend(loc=\"upper right\", bbox_to_anchor=(1.3,1),labels=[\"Jet Airways\",\n",
    "                                                            \"Air India Limited\",\n",
    "                                                            \"Delta Airlines\",\n",
    "                                                            \"Rossiya Airlines\"])\n",
    "#Put the plot away from the TM_datafiles\n",
    "plt.savefig(\"gain_plot.png\")\n",
    "plt.plot()\n",
    "\n",
    "\n"
   ]
  },
  {
   "cell_type": "markdown",
   "metadata": {},
   "source": [
    "## Top 5 loss by airlines"
   ]
  },
  {
   "cell_type": "code",
   "execution_count": 309,
   "metadata": {},
   "outputs": [
    {
     "data": {
      "text/html": [
       "<div>\n",
       "<style scoped>\n",
       "    .dataframe tbody tr th:only-of-type {\n",
       "        vertical-align: middle;\n",
       "    }\n",
       "\n",
       "    .dataframe tbody tr th {\n",
       "        vertical-align: top;\n",
       "    }\n",
       "\n",
       "    .dataframe thead th {\n",
       "        text-align: right;\n",
       "    }\n",
       "</style>\n",
       "<table border=\"1\" class=\"dataframe\">\n",
       "  <thead>\n",
       "    <tr style=\"text-align: right;\">\n",
       "      <th></th>\n",
       "      <th>Country Id</th>\n",
       "      <th>Order ID</th>\n",
       "      <th>Departure Date</th>\n",
       "      <th>Amount</th>\n",
       "      <th>Category</th>\n",
       "      <th>Product type</th>\n",
       "      <th>Ticket nummer</th>\n",
       "      <th>Ticket Issuance Date</th>\n",
       "      <th>PNR nummer</th>\n",
       "      <th>Ticket route</th>\n",
       "      <th>Airline Code</th>\n",
       "      <th>Booking Channel</th>\n",
       "      <th>Booking Sub-Channel</th>\n",
       "      <th>Date of Last Segment</th>\n",
       "      <th>New/Changed/Cancelled</th>\n",
       "      <th>Destination</th>\n",
       "    </tr>\n",
       "  </thead>\n",
       "  <tbody>\n",
       "    <tr>\n",
       "      <th>4073</th>\n",
       "      <td>33</td>\n",
       "      <td>2072</td>\n",
       "      <td>2013-12-31</td>\n",
       "      <td>134717.81</td>\n",
       "      <td>FLIGHT</td>\n",
       "      <td>Vliegticket</td>\n",
       "      <td>9,84341E+11</td>\n",
       "      <td>2013-12-23</td>\n",
       "      <td>ZT2QH4M</td>\n",
       "      <td>DEL/ORD</td>\n",
       "      <td>AI</td>\n",
       "      <td>Skyscanner bua in</td>\n",
       "      <td>YxQxTmtyEeOM1gBQVrwMkQ</td>\n",
       "      <td>31-12-2013</td>\n",
       "      <td>W</td>\n",
       "      <td>ORD</td>\n",
       "    </tr>\n",
       "    <tr>\n",
       "      <th>4060</th>\n",
       "      <td>33</td>\n",
       "      <td>1995</td>\n",
       "      <td>2014-01-01</td>\n",
       "      <td>65259.93</td>\n",
       "      <td>FLIGHT</td>\n",
       "      <td>Vliegticket</td>\n",
       "      <td>1,25434E+12</td>\n",
       "      <td>2013-12-16</td>\n",
       "      <td>6SDUL3M</td>\n",
       "      <td>DEL/LHR/YYZ</td>\n",
       "      <td>BA</td>\n",
       "      <td>Ixigo bua.in</td>\n",
       "      <td>DIR---IN-FO-DEL-YTO-A-BABA.408b8acc33dd441896</td>\n",
       "      <td>1-1-2014</td>\n",
       "      <td>W</td>\n",
       "      <td>YYZ</td>\n",
       "    </tr>\n",
       "    <tr>\n",
       "      <th>2474</th>\n",
       "      <td>32</td>\n",
       "      <td>17864</td>\n",
       "      <td>2014-01-06</td>\n",
       "      <td>39152.45</td>\n",
       "      <td>FLIGHT</td>\n",
       "      <td>Vliegticket</td>\n",
       "      <td>6,70463E+12</td>\n",
       "      <td>2013-12-15</td>\n",
       "      <td>53IQM6M</td>\n",
       "      <td>JFK/LAX/***/VKO/JFK/***/LAX/LH</td>\n",
       "      <td>UN</td>\n",
       "      <td>skyscannerru bua.ru</td>\n",
       "      <td>fHwXJmR7EeOv8wBQVpAoHw</td>\n",
       "      <td>22-1-2014</td>\n",
       "      <td>A</td>\n",
       "      <td>LAX</td>\n",
       "    </tr>\n",
       "    <tr>\n",
       "      <th>3507</th>\n",
       "      <td>32</td>\n",
       "      <td>18823</td>\n",
       "      <td>2014-01-02</td>\n",
       "      <td>26284.00</td>\n",
       "      <td>FLIGHT</td>\n",
       "      <td>Vliegticket</td>\n",
       "      <td>7,74634E+11</td>\n",
       "      <td>2014-01-01</td>\n",
       "      <td>5AMGFLM</td>\n",
       "      <td>DME/CAI/SSH/CAI/DME</td>\n",
       "      <td>MS</td>\n",
       "      <td>momondo bua.ru</td>\n",
       "      <td>NaN</td>\n",
       "      <td>9-1-2014</td>\n",
       "      <td>A</td>\n",
       "      <td>SSH</td>\n",
       "    </tr>\n",
       "    <tr>\n",
       "      <th>3948</th>\n",
       "      <td>32</td>\n",
       "      <td>17899</td>\n",
       "      <td>2014-03-25</td>\n",
       "      <td>22563.20</td>\n",
       "      <td>FLIGHT</td>\n",
       "      <td>Vliegticket</td>\n",
       "      <td>5,55438E+12</td>\n",
       "      <td>2013-12-15</td>\n",
       "      <td>6GXJ4JM</td>\n",
       "      <td>UUD/SVO/TLV/SVO/UUD</td>\n",
       "      <td>SU</td>\n",
       "      <td>NaN</td>\n",
       "      <td>NaN</td>\n",
       "      <td>7-4-2014</td>\n",
       "      <td>A</td>\n",
       "      <td>TLV</td>\n",
       "    </tr>\n",
       "  </tbody>\n",
       "</table>\n",
       "</div>"
      ],
      "text/plain": [
       "      Country Id  Order ID Departure Date     Amount Category Product type  \\\n",
       "4073          33      2072     2013-12-31  134717.81   FLIGHT  Vliegticket   \n",
       "4060          33      1995     2014-01-01   65259.93   FLIGHT  Vliegticket   \n",
       "2474          32     17864     2014-01-06   39152.45   FLIGHT  Vliegticket   \n",
       "3507          32     18823     2014-01-02   26284.00   FLIGHT  Vliegticket   \n",
       "3948          32     17899     2014-03-25   22563.20   FLIGHT  Vliegticket   \n",
       "\n",
       "     Ticket nummer Ticket Issuance Date PNR nummer  \\\n",
       "4073   9,84341E+11           2013-12-23    ZT2QH4M   \n",
       "4060   1,25434E+12           2013-12-16    6SDUL3M   \n",
       "2474   6,70463E+12           2013-12-15    53IQM6M   \n",
       "3507   7,74634E+11           2014-01-01    5AMGFLM   \n",
       "3948   5,55438E+12           2013-12-15    6GXJ4JM   \n",
       "\n",
       "                        Ticket route Airline Code      Booking Channel  \\\n",
       "4073                         DEL/ORD           AI    Skyscanner bua in   \n",
       "4060                     DEL/LHR/YYZ           BA         Ixigo bua.in   \n",
       "2474  JFK/LAX/***/VKO/JFK/***/LAX/LH           UN  skyscannerru bua.ru   \n",
       "3507             DME/CAI/SSH/CAI/DME           MS       momondo bua.ru   \n",
       "3948             UUD/SVO/TLV/SVO/UUD           SU                  NaN   \n",
       "\n",
       "                                Booking Sub-Channel Date of Last Segment  \\\n",
       "4073                         YxQxTmtyEeOM1gBQVrwMkQ           31-12-2013   \n",
       "4060  DIR---IN-FO-DEL-YTO-A-BABA.408b8acc33dd441896             1-1-2014   \n",
       "2474                         fHwXJmR7EeOv8wBQVpAoHw            22-1-2014   \n",
       "3507                                            NaN             9-1-2014   \n",
       "3948                                            NaN             7-4-2014   \n",
       "\n",
       "     New/Changed/Cancelled Destination  \n",
       "4073                     W         ORD  \n",
       "4060                     W         YYZ  \n",
       "2474                     A         LAX  \n",
       "3507                     A         SSH  \n",
       "3948                     A         TLV  "
      ]
     },
     "execution_count": 309,
     "metadata": {},
     "output_type": "execute_result"
    }
   ],
   "source": [
    "#Top 5 loss\n",
    "top_5_loss = filtered_dates.sort_values(by =\"Amount\",ascending = True).head(5)\n",
    "#Change the amount to positive in order to put in pie graph\n",
    "top_5_loss[\"Amount\"] = top_5_loss[\"Amount\"]*-1\n",
    "top_5_loss"
   ]
  },
  {
   "cell_type": "code",
   "execution_count": 312,
   "metadata": {},
   "outputs": [
    {
     "data": {
      "image/png": "[encoded data removed]",
      "text/plain": [
       "<Figure size 792x648 with 1 Axes>"
      ]
     },
     "metadata": {},
     "output_type": "display_data"
    }
   ],
   "source": [
    "\n",
    "plt.figure(figsize = (11,9))\n",
    "plt.pie(top_5_loss[\"Amount\"], labels = top_5_loss[\"Airline Code\"],autopct='%1.1f%%')\n",
    "plt.legend(loc=\"upper right\", bbox_to_anchor=(1.1,1),labels=[\"Air India Limited\",\n",
    "                                                            \"British Airways\",\n",
    "                                                            \"Transaero\",\n",
    "                                                            \"Egypt Air\",\n",
    "                                                            \"Aeroflot\"])\n",
    "\n",
    "plt.axis('equal')\n",
    "\n",
    "#Put the plot away from the TM_datafiles\n",
    "plt.savefig(\"loss_plot.png\")\n",
    "\n",
    "plt.show()\n"
   ]
  }
 ],
 "metadata": {
  "kernelspec": {
   "display_name": "Python 3 (ipykernel)",
   "language": "python",
   "name": "python3"
  },
  "language_info": {
   "codemirror_mode": {
    "name": "ipython",
    "version": 3
   },
   "file_extension": ".py",
   "mimetype": "text/x-python",
   "name": "python",
   "nbconvert_exporter": "python",
   "pygments_lexer": "ipython3",
   "version": "3.9.7"
  }
 },
 "nbformat": 4,
 "nbformat_minor": 4
}
